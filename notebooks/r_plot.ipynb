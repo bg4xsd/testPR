{
 "cells": [
  {
   "cell_type": "code",
   "execution_count": 1,
   "metadata": {
    "vscode": {
     "languageId": "r"
    }
   },
   "outputs": [
    {
     "name": "stderr",
     "output_type": "stream",
     "text": [
      "Warning message in system(\"timedatectl\", intern = TRUE):\n",
      "“running command 'timedatectl' had status 1”\n",
      "── \u001b[1mAttaching core tidyverse packages\u001b[22m ──────────────────────── tidyverse 2.0.0 ──\n",
      "\u001b[32m✔\u001b[39m \u001b[34mdplyr    \u001b[39m 1.1.2     \u001b[32m✔\u001b[39m \u001b[34mreadr    \u001b[39m 2.1.4\n",
      "\u001b[32m✔\u001b[39m \u001b[34mforcats  \u001b[39m 1.0.0     \u001b[32m✔\u001b[39m \u001b[34mstringr  \u001b[39m 1.5.0\n",
      "\u001b[32m✔\u001b[39m \u001b[34mggplot2  \u001b[39m 3.4.2     \u001b[32m✔\u001b[39m \u001b[34mtibble   \u001b[39m 3.2.1\n",
      "\u001b[32m✔\u001b[39m \u001b[34mlubridate\u001b[39m 1.9.2     \u001b[32m✔\u001b[39m \u001b[34mtidyr    \u001b[39m 1.3.0\n",
      "\u001b[32m✔\u001b[39m \u001b[34mpurrr    \u001b[39m 1.0.1     \n",
      "── \u001b[1mConflicts\u001b[22m ────────────────────────────────────────── tidyverse_conflicts() ──\n",
      "\u001b[31m✖\u001b[39m \u001b[34mdplyr\u001b[39m::\u001b[32mfilter()\u001b[39m masks \u001b[34mstats\u001b[39m::filter()\n",
      "\u001b[31m✖\u001b[39m \u001b[34mdplyr\u001b[39m::\u001b[32mlag()\u001b[39m    masks \u001b[34mstats\u001b[39m::lag()\n",
      "\u001b[36mℹ\u001b[39m Use the conflicted package (\u001b[3m\u001b[34m<http://conflicted.r-lib.org/>\u001b[39m\u001b[23m) to force all conflicts to become errors\n"
     ]
    }
   ],
   "source": [
    "library('tidyverse')"
   ]
  },
  {
   "cell_type": "code",
   "execution_count": 2,
   "metadata": {
    "vscode": {
     "languageId": "r"
    }
   },
   "outputs": [
    {
     "data": {
      "text/html": [
       "<table class=\"dataframe\">\n",
       "<caption>A tibble: 7 × 2</caption>\n",
       "<thead>\n",
       "\t<tr><th scope=col>class</th><th scope=col>n</th></tr>\n",
       "\t<tr><th scope=col>&lt;chr&gt;</th><th scope=col>&lt;int&gt;</th></tr>\n",
       "</thead>\n",
       "<tbody>\n",
       "\t<tr><td>2seater   </td><td> 5</td></tr>\n",
       "\t<tr><td>compact   </td><td>47</td></tr>\n",
       "\t<tr><td>midsize   </td><td>41</td></tr>\n",
       "\t<tr><td>minivan   </td><td>11</td></tr>\n",
       "\t<tr><td>pickup    </td><td>33</td></tr>\n",
       "\t<tr><td>subcompact</td><td>35</td></tr>\n",
       "\t<tr><td>suv       </td><td>62</td></tr>\n",
       "</tbody>\n",
       "</table>\n"
      ],
      "text/latex": [
       "A tibble: 7 × 2\n",
       "\\begin{tabular}{ll}\n",
       " class & n\\\\\n",
       " <chr> & <int>\\\\\n",
       "\\hline\n",
       "\t 2seater    &  5\\\\\n",
       "\t compact    & 47\\\\\n",
       "\t midsize    & 41\\\\\n",
       "\t minivan    & 11\\\\\n",
       "\t pickup     & 33\\\\\n",
       "\t subcompact & 35\\\\\n",
       "\t suv        & 62\\\\\n",
       "\\end{tabular}\n"
      ],
      "text/markdown": [
       "\n",
       "A tibble: 7 × 2\n",
       "\n",
       "| class &lt;chr&gt; | n &lt;int&gt; |\n",
       "|---|---|\n",
       "| 2seater    |  5 |\n",
       "| compact    | 47 |\n",
       "| midsize    | 41 |\n",
       "| minivan    | 11 |\n",
       "| pickup     | 33 |\n",
       "| subcompact | 35 |\n",
       "| suv        | 62 |\n",
       "\n"
      ],
      "text/plain": [
       "  class      n \n",
       "1 2seater     5\n",
       "2 compact    47\n",
       "3 midsize    41\n",
       "4 minivan    11\n",
       "5 pickup     33\n",
       "6 subcompact 35\n",
       "7 suv        62"
      ]
     },
     "metadata": {},
     "output_type": "display_data"
    }
   ],
   "source": [
    "# library(tidyverse)\n",
    "library(forcats)\n",
    "count(mpg, class)"
   ]
  },
  {
   "attachments": {},
   "cell_type": "markdown",
   "metadata": {},
   "source": [
    "看看这段代码，会出现什么情况， 应该怎么解决？"
   ]
  },
  {
   "cell_type": "code",
   "execution_count": 4,
   "metadata": {
    "vscode": {
     "languageId": "r"
    }
   },
   "outputs": [
    {
     "data": {
      "image/png": "[encoded data removed]",
      "text/plain": [
       "plot without title"
      ]
     },
     "metadata": {
      "image/png": {
       "height": 420,
       "width": 420
      }
     },
     "output_type": "display_data"
    }
   ],
   "source": [
    "p1 = ggplot(mpg, aes(class)) +\n",
    "  geom_bar() +\n",
    "  theme(axis.text.x = element_text(angle = 45, \n",
    "                        vjust = 1, hjust = 1))\n",
    "p2 = ggplot(mpg, aes(fct_infreq(class))) +\n",
    "  geom_bar() +\n",
    "  theme(axis.text.x = element_text(angle = 45, \n",
    "                        vjust = 1, hjust = 1))\n",
    "library(patchwork)\n",
    "p1 | p2"
   ]
  }
 ],
 "metadata": {
  "kernelspec": {
   "display_name": "R",
   "language": "R",
   "name": "ir"
  },
  "language_info": {
   "codemirror_mode": "r",
   "file_extension": ".r",
   "mimetype": "text/x-r-source",
   "name": "R",
   "pygments_lexer": "r",
   "version": "4.2.3"
  },
  "orig_nbformat": 4
 },
 "nbformat": 4,
 "nbformat_minor": 2
}
